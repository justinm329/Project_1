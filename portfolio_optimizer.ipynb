{
 "cells": [
  {
   "cell_type": "markdown",
   "metadata": {},
   "source": [
    "# Portfolio Optimizer"
   ]
  },
  {
   "cell_type": "code",
   "execution_count": 5,
   "metadata": {},
   "outputs": [],
   "source": [
    "# Initial imports\n",
    "import os\n",
    "from dotenv import load_dotenv\n",
    "import pandas as pd\n",
    "import numpy as np\n",
    "import datetime\n",
    "import alpaca_trade_api as tradeapi"
   ]
  },
  {
   "cell_type": "code",
   "execution_count": 2,
   "metadata": {},
   "outputs": [
    {
     "data": {
      "text/plain": [
       "True"
      ]
     },
     "execution_count": 2,
     "metadata": {},
     "output_type": "execute_result"
    }
   ],
   "source": [
    "# Load .env enviroment variables\n",
    "load_dotenv(\"C:\\\\Users\\\\rhnil\\\\Desktop\\\\Columbia_Bootcamp\\\\alpaca.env\")\n"
   ]
  },
  {
   "cell_type": "code",
   "execution_count": 3,
   "metadata": {},
   "outputs": [],
   "source": [
    "# Set Alpaca API key and secret\n",
    "alpaca_api_key = os.getenv(\"ALPACA_API_KEY\")\n",
    "alpaca_secret_key = os.getenv(\"ALPACA_SECRET_KEY\")\n",
    "\n",
    "# Create the Alpaca API object\n",
    "api = tradeapi.REST(\n",
    "    alpaca_api_key,\n",
    "    alpaca_secret_key,\n",
    "    api_version = \"v2\"\n",
    ")\n"
   ]
  },
  {
   "cell_type": "code",
   "execution_count": 6,
   "metadata": {},
   "outputs": [
    {
     "ename": "NameError",
     "evalue": "name 'datetime' is not defined",
     "output_type": "error",
     "traceback": [
      "\u001b[1;31m---------------------------------------------------------------------------\u001b[0m",
      "\u001b[1;31mNameError\u001b[0m                                 Traceback (most recent call last)",
      "\u001b[1;32m<ipython-input-6-fd2940faba03>\u001b[0m in \u001b[0;36m<module>\u001b[1;34m\u001b[0m\n\u001b[0;32m      1\u001b[0m \u001b[1;31m# Format current date as ISO format [TO BE UPDATED BASED ON DATE OF SMS]\u001b[0m\u001b[1;33m\u001b[0m\u001b[1;33m\u001b[0m\u001b[1;33m\u001b[0m\u001b[0m\n\u001b[1;32m----> 2\u001b[1;33m \u001b[0msd\u001b[0m \u001b[1;33m=\u001b[0m \u001b[0mstr\u001b[0m\u001b[1;33m(\u001b[0m\u001b[0mdatetime\u001b[0m\u001b[1;33m.\u001b[0m\u001b[0mdate\u001b[0m\u001b[1;33m.\u001b[0m\u001b[0mtoday\u001b[0m\u001b[1;33m(\u001b[0m\u001b[1;33m)\u001b[0m \u001b[1;33m-\u001b[0m \u001b[0mdatetime\u001b[0m\u001b[1;33m.\u001b[0m\u001b[0mtimedelta\u001b[0m\u001b[1;33m(\u001b[0m\u001b[1;36m30\u001b[0m\u001b[1;33m)\u001b[0m\u001b[1;33m)\u001b[0m\u001b[1;33m\u001b[0m\u001b[1;33m\u001b[0m\u001b[0m\n\u001b[0m\u001b[0;32m      3\u001b[0m \u001b[0med\u001b[0m \u001b[1;33m=\u001b[0m \u001b[0mstr\u001b[0m\u001b[1;33m(\u001b[0m\u001b[0mdatetime\u001b[0m\u001b[1;33m.\u001b[0m\u001b[0mdate\u001b[0m\u001b[1;33m.\u001b[0m\u001b[0mtoday\u001b[0m\u001b[1;33m(\u001b[0m\u001b[1;33m)\u001b[0m\u001b[1;33m)\u001b[0m\u001b[1;33m\u001b[0m\u001b[1;33m\u001b[0m\u001b[0m\n\u001b[0;32m      4\u001b[0m \u001b[1;33m\u001b[0m\u001b[0m\n\u001b[0;32m      5\u001b[0m \u001b[0mstart_date\u001b[0m \u001b[1;33m=\u001b[0m \u001b[0mpd\u001b[0m\u001b[1;33m.\u001b[0m\u001b[0mTimestamp\u001b[0m\u001b[1;33m(\u001b[0m\u001b[0msd\u001b[0m\u001b[1;33m,\u001b[0m \u001b[0mtz\u001b[0m\u001b[1;33m=\u001b[0m\u001b[1;34m\"America/New_York\"\u001b[0m\u001b[1;33m)\u001b[0m\u001b[1;33m.\u001b[0m\u001b[0misoformat\u001b[0m\u001b[1;33m(\u001b[0m\u001b[1;33m)\u001b[0m\u001b[1;33m\u001b[0m\u001b[1;33m\u001b[0m\u001b[0m\n",
      "\u001b[1;31mNameError\u001b[0m: name 'datetime' is not defined"
     ]
    }
   ],
   "source": [
    "# Format current date as ISO format [TO BE UPDATED BASED ON DATE OF SMS]\n",
    "sd = str(datetime.date.today() - datetime.timedelta(30))\n",
    "ed = str(datetime.date.today())\n",
    "\n",
    "start_date = pd.Timestamp(sd, tz=\"America/New_York\").isoformat()\n",
    "end_date = pd.Timestamp(ed, tz=\"America/New_York\").isoformat()\n",
    "\n",
    "# Set the tickers [TO BE REPLACED with tickers from SMS]\n",
    "tickers = [\"TSLA\", \"HD\", \"MRNA\", \"FB\"]\n",
    "\n",
    "# Set timeframe to '1D' for Alpaca API\n",
    "timeframe = \"1D\"\n",
    "\n",
    "# Get prices from alpaca\n",
    "portfolio_df = api.get_barset(\n",
    "    tickers,\n",
    "    timeframe,\n",
    "    start=start_date,\n",
    "    end=end_date,\n",
    "    limit=35,\n",
    ").df\n"
   ]
  },
  {
   "cell_type": "code",
   "execution_count": null,
   "metadata": {},
   "outputs": [],
   "source": [
    "for column in portfolio_df.columns.get_level_values(1):\n",
    "    if column !='close':\n",
    "        portfolio_df = portfolio_df.drop(column, axis=1, level=1)\n",
    "        \n",
    "portfolio_df.columns = portfolio_df.columns.get_level_values(0)\n",
    "portfolio_df.reset_index(inplace=True)"
   ]
  },
  {
   "cell_type": "code",
   "execution_count": null,
   "metadata": {},
   "outputs": [],
   "source": [
    "portfolio_df['time'] = pd.to_datetime(portfolio_df['time'])\n",
    "portfolio_df['time'] = portfolio_df['time'].dt.date\n",
    "portfolio_df = portfolio_df.set_index('time')\n",
    "\n",
    "portfolio_returns_df = portfolio_df.pct_change().dropna()"
   ]
  },
  {
   "cell_type": "code",
   "execution_count": null,
   "metadata": {},
   "outputs": [],
   "source": [
    "# Monte Carlo simulation to identify \"optimized\" portfolio weights -- \"optimized\" defined as highest Sharpe ratio.\n",
    "# Code block learned from Sigma Coding (https://www.youtube.com/channel/UCBsTB02yO0QGwtlfiv5m25Q/about)\n",
    "\n",
    "# Set number of simulations\n",
    "no_of_runs = 100\n",
    "no_of_stocks = len(tickers)\n",
    "\n",
    "# Initialize portfolio weights to zero\n",
    "all_weights = np.zeros((no_of_runs, no_of_stocks))\n",
    "\n",
    "# Initialize arrays to hold results of simulation\n",
    "return_array = np.zeros(no_of_runs)\n",
    "vol_array = np.zeros(no_of_runs)\n",
    "sharpe_array = np.zeros(no_of_runs)\n",
    "\n",
    "# Calculate log returns of each stock (logs are better matched to a time dimension, i.e. returns overtime)\n",
    "log_return = np.log(1 + portfolio_returns_df)\n",
    "\n",
    "# Simulation\n",
    "for x in range(no_of_runs):\n",
    "    \n",
    "    # Step 1: Calculate weights\n",
    "    weights = np.array(np.random.random(no_of_stocks))\n",
    "    weights = weights / np.sum(weights)\n",
    "    \n",
    "    # Step 2: Add weights to weights array\n",
    "    all_weights[x,:] = weights\n",
    "    \n",
    "    # Step 3: Calculate expected returns\n",
    "    return_array[x] = np.sum((log_return.mean()*weights)*252)\n",
    "    \n",
    "    # Step 4: Calculate volitility and add to vol_array\n",
    "    vol_array[x] = np.sqrt(np.dot(weights.T, np.dot(log_return.cov()*252, weights)))\n",
    "    \n",
    "    # Step 5: Calculate Sharpe ratio\n",
    "    sharpe_array[x] = return_array[x]/vol_array[x]\n",
    "    \n",
    "# Combine all arrays into master array\n",
    "simulation_data =[return_array, vol_array, sharpe_array, all_weights]\n",
    "\n",
    "# Create dataframe from master array\n",
    "simulation_df = pd.DataFrame(data=simulation_data).T\n",
    "\n",
    "# Name simulsimulation_df columns\n",
    "simulation_df.columns = ['Returns', 'Volitility', 'Sharpe Ratio', 'Portfolio Weights']\n",
    "\n",
    "# Ensure sure data types are floats (no accidental strings) \n",
    "simulation_df = simulation_df.infer_objects()"
   ]
  },
  {
   "cell_type": "code",
   "execution_count": null,
   "metadata": {},
   "outputs": [],
   "source": [
    "# Find portfolio weights with highest sharpe ratio \n",
    "Max_SharpeRatio_row = simulation_df.iloc[simulation_df['Sharpe Ratio'].idxmax()]"
   ]
  },
  {
   "cell_type": "code",
   "execution_count": null,
   "metadata": {},
   "outputs": [],
   "source": [
    "optimized_weights_df = pd.Series(Max_SharpeRatio_row['Portfolio Weights']).to_frame()\n",
    "optimized_weights_df = optimized_weights_df.T\n",
    "optimized_weights_df.columns = list(portfolio_returns_df.columns.values)\n",
    "optimized_weights_df"
   ]
  }
 ],
 "metadata": {
  "file_extension": ".py",
  "kernelspec": {
   "display_name": "Python 3",
   "language": "python",
   "name": "python3"
  },
  "language_info": {
   "codemirror_mode": {
    "name": "ipython",
    "version": 3
   },
   "file_extension": ".py",
   "mimetype": "text/x-python",
   "name": "python",
   "nbconvert_exporter": "python",
   "pygments_lexer": "ipython3",
   "version": "3.8.5"
  },
  "mimetype": "text/x-python",
  "name": "python",
  "npconvert_exporter": "python",
  "pygments_lexer": "ipython3",
  "version": 3
 },
 "nbformat": 4,
 "nbformat_minor": 4
}
