{
 "cells": [
  {
   "cell_type": "markdown",

   "id": "e69ddad3",
   "metadata": {},
   "source": [
    "## Twilio sms Sample Code"
   ]
  },
  {
   "cell_type": "markdown",
   "id": "d9764711",
   "metadata": {},
   "source": [
    "* Sign up for a trial account at\n",
    "\n",
    ">```https://www.twilio.com/try-twilio```\n",
    "\n",
    "* Please install the twilio package in your conda environment by running the following command in the terminal\n",
    "\n",
    ">``` pip install twilio ```\n",
    "\n",
    "* Add the twilio API key parameters to your .env file\n",
    "\n",
    ">```TWILIO_ACCOUNT_SID = \"your-account-sid-goes-here\"```\n",
    ">```TWILIO_AUTH_TOKEN = \"your-auth-token-goes-here\"```\n",
    "\n",
    "**REF: https://www.twilio.com/docs/libraries/python**\n",
    "https://www.twilio.com/docs/sms/tutorials/how-to-send-sms-messages-python?code-sample=code-send-an-mms-message-with-an-image-url&code-language=Python&code-sdk-version=6.x"
   ]
  },
  {
   "cell_type": "markdown",
   "id": "11b75433",
   "metadata": {},
   "source": [
    "### Initialization"
   ]
  },
  {
   "cell_type": "code",
   "execution_count": 189,
   "id": "70b7b40b",
   "metadata": {},
   "outputs": [],
   "source": [
    "import os\n",
    "from dotenv import load_dotenv\n",
    "from twilio.rest import Client\n",
    "import psycopg2\n",
    "from datetime import date, timedelta\n",
    "import numpy as np\n",
    "import yfinance as yf"
   ]
  },
  {
   "cell_type": "code",
   "execution_count": 190,
   "id": "6e825890",
   "metadata": {},
   "outputs": [
    {
     "data": {
      "text/plain": [
       "True"
      ]
     },
     "execution_count": 190,
     "metadata": {},
     "output_type": "execute_result"
    }
   ],
   "source": [
    "# Load .env environment variables\n",
    "# Note: Replace below file name with your .env file name\n",
    "load_dotenv(\"YH.env\")"
   ]
  },
  {
   "cell_type": "code",
   "execution_count": 191,
   "id": "f1acb55c",
   "metadata": {},
   "outputs": [],
   "source": [
    "# Read the API keys from the .env file\n",
    "TWILIO_ACCOUNT_SID = os.getenv(\"TWILIO_ACCOUNT_SID\") \n",
    "TWILIO_AUTH_TOKEN = os.getenv(\"TWILIO_AUTH_TOKEN\")\n",
    "\n",
    "# Create the api object\n",
    "twilio_api = Client(TWILIO_ACCOUNT_SID, TWILIO_AUTH_TOKEN)\n",
    "\n",
    "# Read connection string from the .env file \n",
    "conn_string = os.getenv(\"DB_STR\") \n",
    "\n",
    "# This is a function that \n",
    "# calls the message stream object in twilio\n",
    "def fetch_sms():\n",
    "    return twilio_api.messages.stream()"
   ]
  },
  {
   "cell_type": "code",
   "execution_count": 192,
   "id": "af609174",
   "metadata": {},
   "outputs": [
    {
     "data": {
      "text/plain": [
       "<generator object Version.stream at 0x7fc45224ff90>"
      ]
     },
     "execution_count": 192,
     "metadata": {},
     "output_type": "execute_result"
    }
   ],
   "source": [
    "# run the function above and capture the returned object\n",
    "sms = fetch_sms()\n",
    "sms"
   ]
  },
  {
   "cell_type": "code",
   "execution_count": null,
   "id": "3c931903",
   "metadata": {},
   "outputs": [],
   "source": [
    "# go through the list of messages \n",
    "for sms in twilio_api.messages.list():\n",
    "    print(f\"{sms.status} on {sms.date_sent} | direction {sms.direction} - message: {sms.body} to phone number {sms.from_}\")"
   ]
  },
  {
   "cell_type": "markdown",
   "id": "bb077517",
   "metadata": {},
   "source": [
    "### Assumptions/Notes"
   ]
  },
  {
   "cell_type": "code",
   "execution_count": 194,
   "id": "46a95fdb",
   "metadata": {},
   "outputs": [],
   "source": [
    "# up to 10 tickers \n",
    "# command format \n",
    "# ADD Name\n",
    "# TICKERS FB, ADM, AMD"
   ]
  },
  {
   "cell_type": "markdown",
   "id": "b5e466da",
   "metadata": {},
   "source": [
    "### AUX Functions"
   ]
  },
  {
   "cell_type": "code",
   "execution_count": 220,
   "id": "dfafd7fe",
   "metadata": {},
   "outputs": [],
   "source": [
    "def send_mms(phone, media_url):\n",
    "    \"\"\"Sends an mms message to a phone number\n",
    "\n",
    "    Parameters\n",
    "    ----------\n",
    "    phone: str\n",
    "        The phone number to which the message is sent format +1xxxyyyzzzz\n",
    "    media_url: str\n",
    "        Url to the media. \n",
    "\n",
    "    Returns\n",
    "    ----------\n",
    "    None: This function does not return any value.\n",
    "\n",
    "   \"\"\"\n",
    "    try:\n",
    "        twilio_api.messages.create(\n",
    "             from_='+15046081628',\n",
    "             media_url=['{media_url}'],\n",
    "            body='',\n",
    "             to=f'{phone}'\n",
    "        )\n",
    "    except Exception as err:\n",
    "        print(f\"Error: '{err}'\")"
   ]
  },
  {
   "cell_type": "code",
   "execution_count": 219,
   "id": "82c6f430",
   "metadata": {},
   "outputs": [],
   "source": [
    "# Test mms\n",
    "#send_mms('+14162066136','https://www.bradaronson.com/wp-content/uploads/2013/10/happy.jpg')"
   ]
  },
  {
   "cell_type": "code",
   "execution_count": 195,
   "id": "fd44ab52",
   "metadata": {},
   "outputs": [],
   "source": [
    "def send_sms(name, phone, message):\n",
    "    \"\"\"Sends an sms message to a phone number\n",
    "\n",
    "    Parameters\n",
    "    ----------\n",
    "    name: str\n",
    "        The first name of the person\n",
    "    phone: str\n",
    "        The phone number to which the message is sent format +1xxxyyyzzzz\n",
    "    message: str\n",
    "        Body of text to be sent as a message\n",
    "\n",
    "    Returns\n",
    "    ----------\n",
    "    None: This function does not return any value.\n",
    "\n",
    "   \"\"\"\n",
    "    message = f\"Hi {name}, \\n\" + message\n",
    "    try:\n",
    "        twilio_api.messages.create(\n",
    "                     body=message,\n",
    "                     from_='+15046081628',\n",
    "                     to=f'{phone}'\n",
    "        )\n",
    "    except Exception as err:\n",
    "        print(f\"Error: '{err}'\")"
   ]
  },
  {
   "cell_type": "code",
   "execution_count": 196,
   "id": "032f9859",
   "metadata": {},
   "outputs": [],
   "source": [
    "def parse_message(message_body):\n",
    "    \"\"\"Parses the given string by spliting it into 3 parts\n",
    "\n",
    "    Parameters\n",
    "    ----------\n",
    "    message_body : str\n",
    "        The message to be parsed\n",
    "\n",
    "    Returns\n",
    "    ----------\n",
    "    str: Returns 2 strings.\n",
    "\n",
    "   \"\"\"\n",
    "\n",
    "    message_split = message_body.split(' ', 1)\n",
    "    \n",
    "    if (len(message_split)<2) or message_split[1].replace(' ','')=='':\n",
    "        message_split[0] = 'INVALID'\n",
    "        message_split.append('')\n",
    "    \n",
    "    command = message_split[0].replace(' ', '')\n",
    "    content = message_split[1].replace(' ', '')\n",
    "\n",
    "    return command.strip(), content.strip()"
   ]
  },
  {
   "cell_type": "code",
   "execution_count": 197,
   "id": "8b0a6055",
   "metadata": {},
   "outputs": [],
   "source": [
    "def content_to_list(content):\n",
    "    \"\"\"Converts comma separated string to a list\n",
    "\n",
    "    Parameters\n",
    "    ----------\n",
    "    content : str\n",
    "        A comma separated string of ticker symbols.\n",
    "\n",
    "    Returns\n",
    "    ----------\n",
    "    List: Returns the corresponding list item.\n",
    "    \n",
    "    \"\"\"\n",
    "    return content.replace(\" \", \"\").split(',')"
   ]
  },
  {
   "cell_type": "code",
   "execution_count": 198,
   "id": "848f4fc9",
   "metadata": {},
   "outputs": [],
   "source": [
    "def is_ticker_valid(ticker):\n",
    "    \"\"\"Check whether given ticker is a valid stock symbol.\n",
    "\n",
    "    Parameters\n",
    "    ----------\n",
    "    ticker : str\n",
    "        A ticker symbol.\n",
    "\n",
    "    Returns\n",
    "    ----------\n",
    "    bool: True if valid ticker, otherwise False.\n",
    "    \n",
    "    \"\"\"\n",
    "    try: \n",
    "        yf.Ticker(ticker).info['sector']\n",
    "        return True\n",
    "    except Exception as err:\n",
    "        return False"
   ]
  },
  {
   "cell_type": "code",
   "execution_count": 199,
   "id": "8791faf5",
   "metadata": {},
   "outputs": [],
   "source": [
    "def ticker_list_valid(ticker_list):\n",
    "    for ticker in ticker_list:\n",
    "        if is_ticker_valid(ticker)==False:\n",
    "            print('Invalid ticker found. Halting!')\n",
    "            return False\n",
    "    return True"
   ]
  },
  {
   "cell_type": "markdown",
   "id": "ac142bf1",
   "metadata": {},
   "source": [
    "### DB related functions"
   ]
  },
  {
   "cell_type": "code",
   "execution_count": 200,
   "id": "c8ef9d96",
   "metadata": {},
   "outputs": [],
   "source": [
    "def create_db_connection(conn_string):\n",
    "    \"\"\"Creates a connection to database\n",
    "\n",
    "    Parameters\n",
    "    ----------\n",
    "    conn_string : str\n",
    "        This is the connection string.\n",
    "\n",
    "    Returns\n",
    "    ----------\n",
    "    obj: Returns a psycopg2.extensions.connection object.\n",
    "    \n",
    "    \"\"\"\n",
    "    conn = None\n",
    "    try:\n",
    "        conn = psycopg2.connect(conn_string)\n",
    "        # for debug - to be removed for production\n",
    "        print(\"MySQL Database connection successful\")\n",
    "    except Exception as err:\n",
    "        print(f\"Error: '{err}'\")\n",
    "\n",
    "    return conn"
   ]
  },
  {
   "cell_type": "code",
   "execution_count": 201,
   "id": "bb76f211",
   "metadata": {},
   "outputs": [],
   "source": [
    "def execute_query(connection, query):\n",
    "    \"\"\"Executes a query to the databse.\n",
    "\n",
    "    Parameters\n",
    "    ----------\n",
    "    connection : object \n",
    "        This is a psycopg2.extensions.connection object.\n",
    "    query : str\n",
    "        This is a SQL query string. \n",
    "\n",
    "    Returns\n",
    "    ----------\n",
    "    None: This function does not return any value.\n",
    "    \n",
    "    \"\"\"\n",
    "    cursor = connection.cursor()\n",
    "    try:\n",
    "        cursor.execute(query)\n",
    "        connection.commit()\n",
    "        # for debug - to be removed for production\n",
    "        print(\"Query successful\")\n",
    "    except Exception as err:\n",
    "        print(f\"Error: '{err}'\")"
   ]
  },
  {
   "cell_type": "code",
   "execution_count": 202,
   "id": "d446d0a0",
   "metadata": {},
   "outputs": [],
   "source": [
    "def select_from_db(connection, select_query):\n",
    "    \"\"\"Executes a query to the databse.\n",
    "\n",
    "    Parameters\n",
    "    ----------\n",
    "    connection : object \n",
    "        This is a psycopg2.extensions.connection object.\n",
    "    select_query : str\n",
    "        This is a SQL select query string. \n",
    "\n",
    "    Returns\n",
    "    ----------\n",
    "    str: It returns a string value or an empty string if nothing found.\n",
    "    \n",
    "    \"\"\"\n",
    "    cursor = connection.cursor()\n",
    "    try:\n",
    "        cursor.execute(select_query)\n",
    "        results = cursor.fetchone()\n",
    "        connection.commit()\n",
    "        # for debug - to be removed for production\n",
    "        print(\"Select Query successful\")\n",
    "        if results != None:\n",
    "            return results[0]\n",
    "        else: return \"\"\n",
    "    except Exception as err:\n",
    "        print(f\"Error: '{err}'\")"
   ]
  },
  {
   "cell_type": "code",
   "execution_count": 203,
   "id": "a851f2c3",
   "metadata": {},
   "outputs": [],
   "source": [
    "def add_user(conn, name, number):\n",
    "    \"\"\"Adds a user to the databse \n",
    "\n",
    "    Parameters\n",
    "    ----------\n",
    "    conn : object \n",
    "        This is a psycopg2.extensions.connection object.\n",
    "    name : str\n",
    "        This is the name of the person.\n",
    "    number : str\n",
    "        This is the phone number of the person. \n",
    "\n",
    "    Returns\n",
    "    ----------\n",
    "    None: This function does not return any value.\n",
    "    \n",
    "    \"\"\"\n",
    "    #execute the sql \n",
    "    query = f\"insert into client (user_name, phone_number) Select '{name}', '{number}' Where not exists(select * from client where phone_number='{number}')\"\n",
    "    execute_query(conn, query)\n",
    "    conn.close()"
   ]
  },
  {
   "cell_type": "code",
   "execution_count": 204,
   "id": "e0d68121",
   "metadata": {},
   "outputs": [],
   "source": [
    "def add_user_portfolio(conn, content, number):\n",
    "    \"\"\"Adds a portfolio to the database\n",
    "\n",
    "    Parameters\n",
    "    ----------\n",
    "    conn : object \n",
    "        This is a psycopg2.extensions.connection object.\n",
    "    content : str\n",
    "        A comma separated string of ticker symbols.\n",
    "    number : str\n",
    "        This is the phone number of the person. \n",
    "\n",
    "    Returns\n",
    "    ----------\n",
    "    None: This function does not return any value.\n",
    "    \n",
    "    \"\"\"\n",
    "    query = f\"insert into user_portfolio (user_id, tickers) values ((select user_id from client where phone_number='{number}'), '{content}') \"\n",
    "    execute_query(conn, query)\n",
    "    conn.close()"
   ]
  },
  {
   "cell_type": "code",
   "execution_count": 205,
   "id": "3fd185cb",
   "metadata": {},
   "outputs": [],
   "source": [
    "def find_user_name(conn, number):\n",
    "    \"\"\"Finds the user's first name\n",
    "\n",
    "    Parameters\n",
    "    ----------\n",
    "    conn : object \n",
    "        This is a psycopg2.extensions.connection object.\n",
    "    number : str\n",
    "        This is the phone number of the person. \n",
    "\n",
    "    Returns\n",
    "    ----------\n",
    "    str: The user's name.\n",
    "    \n",
    "    \"\"\"\n",
    "    #execute the sql \n",
    "    query = f\"select user_name from client where phone_number='{number}'\"\n",
    "    result = select_from_db(conn, query)\n",
    "    \n",
    "    conn.close()\n",
    "    return result"
   ]
  },
  {
   "cell_type": "code",
   "execution_count": 206,
   "id": "e51b9fc3",
   "metadata": {},
   "outputs": [],
   "source": [
    "def execute_command(command, phone, content):\n",
    "    \"\"\"This functions executes commands received from the sms engine. \n",
    "\n",
    "    Parameters\n",
    "    ----------\n",
    "    command : str \n",
    "        This is the command type to be executed ADD = add user, TICKERS = add profile.\n",
    "    phone : str\n",
    "        This is the phone number of the person. \n",
    "    content : str\n",
    "        This is the content to be added to the database.\n",
    "\n",
    "    Returns\n",
    "    ----------\n",
    "    None: This function does not return any value.\n",
    "    \n",
    "    \"\"\"\n",
    "    welcome_message = 'Welcome! \\n Please send us your tickers. Text TICKERS followed by your ticker list (e.g. TICKERS FB, AMD).'\n",
    "    add_portfolio_message = 'We have received your tickers! Your portfolio is being analyzed and we will send you the results shortly.'\n",
    "    \n",
    "    if command=='ADD':\n",
    "        # for debug - to be removed for production\n",
    "        print('Adding a user!')\n",
    "        # connect to db\n",
    "        conn = create_db_connection(conn_string)\n",
    "        # add user to db\n",
    "        add_user(conn, content, phone)\n",
    "        # send a welcome message to the user\n",
    "        send_sms(content, phone, welcome_message)\n",
    "        \n",
    "    elif command=='TICKERS':\n",
    "        # get a list of user specified tickers\n",
    "        ticker_list = content_to_list(content)\n",
    "        # check if tickers are valid\n",
    "        if ticker_list_valid(ticker_list) == True:\n",
    "            # for debug - to be removed for production\n",
    "            print('Adding portfolio')\n",
    "            # add portfolio to db\n",
    "            conn = create_db_connection(conn_string)\n",
    "            add_user_portfolio(conn, content, phone)\n",
    "            # get the user name from db\n",
    "            conn = create_db_connection(conn_string)\n",
    "            name = find_user_name(conn, phone)\n",
    "            # notify the user\n",
    "            send_sms(name, phone, add_portfolio_message)\n",
    "            # run MC sim - RN\n",
    "            # add to events - RN\n",
    "            # Visualize the data - JF\n",
    "            # plots to be made  - JF\n",
    "            # message back results - YH\n",
    "        # message back with an error \n",
    "    else:  print('Invalid entry!')"
   ]
  },
  {
   "cell_type": "markdown",
   "id": "569c0aeb",
   "metadata": {},
   "source": [
    "### Main Program Area"
   ]
  },
  {
   "cell_type": "code",
   "execution_count": 207,
   "id": "ff64af60",
   "metadata": {},
   "outputs": [
    {
     "name": "stdout",
     "output_type": "stream",
     "text": [
      "Adding a user!\n",
      "MySQL Database connection successful\n",
      "Query successful\n",
      "ADD \n",
      "Micheal\n",
      "---\n",
      "Invalid entry!\n",
      "START\n",
      "---\n",
      "Invalid entry!\n",
      "STOP\n",
      "---\n",
      "Adding portfolio\n",
      "MySQL Database connection successful\n",
      "Query successful\n",
      "MySQL Database connection successful\n",
      "Select Query successful\n",
      "TICKERS TSLA, HD, GE\n",
      "---\n",
      "Adding portfolio\n",
      "MySQL Database connection successful\n",
      "Query successful\n",
      "MySQL Database connection successful\n",
      "Select Query successful\n",
      "TICKERS TSLA\n",
      "---\n",
      "Invalid entry!\n",
      "TICKER TSLA\n",
      "---\n",
      "Adding portfolio\n",
      "MySQL Database connection successful\n",
      "Query successful\n",
      "MySQL Database connection successful\n",
      "Select Query successful\n",
      "Tickers TSLA\n",
      "---\n",
      "Adding a user!\n",
      "MySQL Database connection successful\n",
      "Query successful\n",
      "ADD Farah \n",
      "---\n",
      "Invalid entry!\n",
      "TSLA, HD, GE\n",
      "---\n",
      "Adding a user!\n",
      "MySQL Database connection successful\n",
      "Query successful\n",
      "ADD \n",
      "Farah \n",
      "---\n",
      "Adding a user!\n",
      "MySQL Database connection successful\n",
      "Query successful\n",
      "ADD Rina\n",
      "---\n",
      "Invalid entry!\n",
      "2 +19175437108 TSLA, HD, GE\n",
      "---\n",
      "Invalid entry!\n",
      "2 +15185888001 FB, AMZN\n",
      "---\n",
      "Invalid entry!\n",
      "1 +22222 19176015305\n",
      "---\n",
      "Invalid entry!\n",
      "1 +15185888001 Justin\n",
      "---\n",
      "Invalid entry!\n",
      "1 +19175437108 Rina\n",
      "---\n"
     ]
    }
   ],
   "source": [
    "# check inbound messages for today \n",
    "\n",
    "today = date.today()\n",
    "\n",
    "for sms in twilio_api.messages.list():\n",
    "    if (sms.direction == 'inbound') and (sms.date_created.date() == (today)):\n",
    "        command, content = parse_message(sms.body)\n",
    "        phone = sms.from_ #'+14162066136'\n",
    "        execute_command(command.upper(), phone, content)\n",
    "        print(sms.body)\n",
    "        print('---')"
   ]
  },
  {
   "cell_type": "code",
   "execution_count": null,
   "id": "679101a0",
   "metadata": {},
   "outputs": [],
   "source": []
  },
  {
   "cell_type": "code",
   "execution_count": null,
   "id": "f802cdc9",
   "metadata": {},
   "outputs": [],
   "source": []
  },
  {
   "cell_type": "code",
   "execution_count": null,
   "id": "114aca47",
   "metadata": {},
   "outputs": [],
   "source": []
  },
  {
   "cell_type": "code",
   "execution_count": null,
   "id": "87f34f90",
   "metadata": {},
   "outputs": [],
   "source": []
  }
 ],
 "metadata": {
  "kernelspec": {
   "display_name": "Python 3",
   "language": "python",
   "name": "python3"
  },
  "language_info": {
   "codemirror_mode": {
    "name": "ipython",
    "version": 3
   },
   "file_extension": ".py",
   "mimetype": "text/x-python",
   "name": "python",
   "nbconvert_exporter": "python",
   "pygments_lexer": "ipython3",
   "version": "3.8.5"
  }
 },
 "nbformat": 4,
 "nbformat_minor": 5
}
