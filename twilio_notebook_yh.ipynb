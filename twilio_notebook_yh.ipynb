{
 "cells": [
  {
   "cell_type": "markdown",
   "id": "8f99e888",
   "metadata": {},
   "source": [
    "## Twilio sms Sample Code"
   ]
  },
  {
   "cell_type": "markdown",
   "id": "bc0074f7",
   "metadata": {},
   "source": [
    "* Sign up for a trial account at\n",
    "\n",
    ">```https://www.twilio.com/try-twilio```\n",
    "\n",
    "* Please install the twilio package in your conda environment by running the following command in the terminal\n",
    "\n",
    ">``` pip install twilio ```\n",
    "\n",
    "* Add the twilio API key parameters to your .env file\n",
    "\n",
    ">```TWILIO_ACCOUNT_SID = \"your-account-sid-goes-here\"```\n",
    ">```TWILIO_AUTH_TOKEN = \"your-auth-token-goes-here\"```\n",
    "\n",
    "**REF: https://www.twilio.com/docs/libraries/python**\n",
    "https://www.twilio.com/docs/sms/tutorials/how-to-send-sms-messages-python?code-sample=code-send-an-mms-message-with-an-image-url&code-language=Python&code-sdk-version=6.x"
   ]
  },
  {
   "cell_type": "code",
   "execution_count": 74,
   "id": "606d7153",
   "metadata": {},
   "outputs": [],
   "source": [
    "import os\n",
    "from dotenv import load_dotenv\n",
    "from twilio.rest import Client\n",
    "import psycopg2\n",
    "from datetime import date, timedelta\n",
    "import numpy as np"
   ]
  },
  {
   "cell_type": "code",
   "execution_count": 35,
   "id": "ab3236cf",
   "metadata": {},
   "outputs": [
    {
     "data": {
      "text/plain": [
       "True"
      ]
     },
     "execution_count": 35,
     "metadata": {},
     "output_type": "execute_result"
    }
   ],
   "source": [
    "# Load .env environment variables\n",
    "# Note: Replace below file name with your .env file name\n",
    "load_dotenv(\"YH.env\")"
   ]
  },
  {
   "cell_type": "code",
   "execution_count": 36,
   "id": "ed9c174b",
   "metadata": {},
   "outputs": [],
   "source": [
    "# Read the API keys from the .env file\n",
    "TWILIO_ACCOUNT_SID = os.getenv(\"TWILIO_ACCOUNT_SID\") \n",
    "TWILIO_AUTH_TOKEN = os.getenv(\"TWILIO_AUTH_TOKEN\")\n",
    "\n",
    "# Create the api object\n",
    "twilio_api = Client(TWILIO_ACCOUNT_SID, TWILIO_AUTH_TOKEN)\n",
    "\n",
    "# Read connection string from the .env file \n",
    "conn_string = os.getenv(\"DB_STR\") \n",
    "\n",
    "# This is a function that \n",
    "# calls the message stream object in twilio\n",
    "def fetch_sms():\n",
    "    return twilio_api.messages.stream()"
   ]
  },
  {
   "cell_type": "code",
   "execution_count": 37,
   "id": "d9ebb6fa",
   "metadata": {},
   "outputs": [
    {
     "data": {
      "text/plain": [
       "<generator object Version.stream at 0x7fc41010b350>"
      ]
     },
     "execution_count": 37,
     "metadata": {},
     "output_type": "execute_result"
    }
   ],
   "source": [
    "# run the function above and capture the returned object\n",
    "sms = fetch_sms()\n",
    "sms"
   ]
  },
  {
   "cell_type": "code",
   "execution_count": 38,
   "id": "990df1b3",
   "metadata": {},
   "outputs": [
    {
     "name": "stdout",
     "output_type": "stream",
     "text": [
      "received on 2021-05-08 16:26:53+00:00 | direction inbound - message: ADD \n",
      "Micheal to phone number +19176015305\n",
      "received on 2021-05-08 15:59:13+00:00 | direction inbound - message: START to phone number +19175437108\n",
      "received on 2021-05-08 15:58:02+00:00 | direction inbound - message: STOP to phone number +19175437108\n",
      "received on 2021-05-08 15:55:01+00:00 | direction inbound - message: TICKERS TSLA, HD, GE to phone number +19175437108\n",
      "received on 2021-05-08 15:53:12+00:00 | direction inbound - message: TICKERS TSLA to phone number +19176015305\n",
      "received on 2021-05-08 15:53:00+00:00 | direction inbound - message: TICKER TSLA to phone number +19176015305\n",
      "received on 2021-05-08 15:52:27+00:00 | direction inbound - message: Tickers TSLA to phone number +19176015305\n",
      "received on 2021-05-08 15:51:43+00:00 | direction inbound - message: ADD Farah  to phone number +19176015305\n",
      "received on 2021-05-08 15:51:39+00:00 | direction inbound - message: TSLA, HD, GE to phone number +19175437108\n",
      "received on 2021-05-08 15:50:24+00:00 | direction inbound - message: ADD \n",
      "Farah  to phone number +19176015305\n",
      "received on 2021-05-08 15:50:14+00:00 | direction inbound - message: ADD Rina to phone number +19175437108\n",
      "received on 2021-05-08 14:27:27+00:00 | direction inbound - message: 2 +19175437108 TSLA, HD, GE to phone number +19175437108\n",
      "received on 2021-05-08 14:27:07+00:00 | direction inbound - message: 2 +15185888001 FB, AMZN to phone number +15185888001\n",
      "received on 2021-05-08 14:25:35+00:00 | direction inbound - message: 1 +22222 19176015305 to phone number +19176015305\n",
      "received on 2021-05-08 14:25:19+00:00 | direction inbound - message: 1 +15185888001 Justin to phone number +15185888001\n",
      "received on 2021-05-08 14:24:53+00:00 | direction inbound - message: 1 +19175437108 Rina to phone number +19175437108\n",
      "delivered on 2021-05-08 14:23:41+00:00 | direction outbound-api - message: Sent from your Twilio trial account - Join Earth's mightiest heroes. Like Kevin Bacon. to phone number +15046081628\n",
      "delivered on 2021-05-08 01:48:54+00:00 | direction outbound-api - message: Sent from your Twilio trial account - Join Earth's mightiest heroes. Like Kevin Bacon. to phone number +15046081628\n",
      "delivered on 2021-05-07 23:01:32+00:00 | direction outbound-api - message: Sent from your Twilio trial account - Join Earth's mightiest heroes. Like Kevin Bacon. to phone number +15046081628\n",
      "delivered on 2021-05-07 22:00:35+00:00 | direction outbound-api - message: Sent from your Twilio trial account - Join Earth's mightiest heroes. Like Kevin Bacon. to phone number +15046081628\n",
      "delivered on 2021-05-07 00:58:19+00:00 | direction outbound-reply - message: Sent from your Twilio trial account - Thanks for the message. Configure your number's SMS URL to change this message.Reply HELP for help.Reply STOP to unsubscribe.Msg&Data rates may apply. to phone number +15046081628\n",
      "received on 2021-05-07 00:58:19+00:00 | direction inbound - message: 1 Yourik to phone number +14162066136\n",
      "delivered on 2021-05-06 23:30:03+00:00 | direction outbound-api - message: Sent from your Twilio trial account - Join Earth's mightiest heroes. Like Kevin Bacon. to phone number +15046081628\n",
      "delivered on 2021-05-06 22:31:47+00:00 | direction outbound-api - message: Sent from your Twilio trial account - Join Earth's mightiest heroes. Like Kevin Bacon. to phone number +15046081628\n",
      "delivered on 2021-05-06 06:29:16+00:00 | direction outbound-api - message: Sent from your Twilio trial account - Join Earth's mightiest heroes. Like Kevin Bacon. to phone number +15046081628\n",
      "delivered on 2021-05-06 01:31:59+00:00 | direction outbound-reply - message: Sent from your Twilio trial account - Thanks for the message. Configure your number's SMS URL to change this message.Reply HELP for help.Reply STOP to unsubscribe.Msg&Data rates may apply. to phone number +15046081628\n",
      "received on 2021-05-06 01:31:59+00:00 | direction inbound - message: Hello team Cardano! to phone number +14162066136\n"
     ]
    }
   ],
   "source": [
    "# go through the list of messages \n",
    "for sms in twilio_api.messages.list():\n",
    "    print(f\"{sms.status} on {sms.date_sent} | direction {sms.direction} - message: {sms.body} to phone number {sms.from_}\")"
   ]
  },
  {
   "cell_type": "markdown",
   "id": "9b0f6255",
   "metadata": {},
   "source": [
    "### Assumptions/Notes"
   ]
  },
  {
   "cell_type": "code",
   "execution_count": 39,
   "id": "d08daac0",
   "metadata": {},
   "outputs": [],
   "source": [
    "# up to 10 tickers \n",
    "# command format \n",
    "# ADD Name\n",
    "# TICKERS FB, ADM, AMD"
   ]
  },
  {
   "cell_type": "markdown",
   "id": "5b139638",
   "metadata": {},
   "source": [
    "### Functions"
   ]
  },
  {
   "cell_type": "code",
   "execution_count": 72,
   "id": "5f04ddb9",
   "metadata": {},
   "outputs": [],
   "source": [
    "def send_sms(name, phone, message):\n",
    "    \"\"\"Sends an sms message to a phone number\n",
    "\n",
    "    Parameters\n",
    "    ----------\n",
    "    name: str\n",
    "        The first name of the person\n",
    "    phone: str\n",
    "        The phone number to which the message is sent format +1xxxyyyzzzz\n",
    "    message: str\n",
    "        Body of text to be sent as a message\n",
    "\n",
    "    Returns\n",
    "    ----------\n",
    "    None: This function does not return any value.\n",
    "\n",
    "   \"\"\"\n",
    "    message = f\"Hi {name}, \\n\" + message\n",
    "    try:\n",
    "        twilio_api.messages.create(\n",
    "                     body=message,\n",
    "                     from_='+15046081628',\n",
    "                     to=f'{phone}'\n",
    "        )\n",
    "    except Exception as err:\n",
    "        print(f\"Error: '{err}'\")"
   ]
  },
  {
   "cell_type": "code",
   "execution_count": 40,
   "id": "59e1a8d5",
   "metadata": {},
   "outputs": [],
   "source": [
    "# Parse sms function\n",
    "def parse_message(message_body):\n",
    "    \"\"\"Parses the given string by spliting it into 3 parts\n",
    "\n",
    "    Parameters\n",
    "    ----------\n",
    "    message_body : str\n",
    "        The message to be parsed\n",
    "\n",
    "    Returns\n",
    "    ----------\n",
    "    str: Returns 2 strings.\n",
    "\n",
    "   \"\"\"\n",
    "\n",
    "    message_split = message_body.split(' ', 1)\n",
    "    \n",
    "    if (len(message_split)<2) or message_split[1].replace(' ','')=='':\n",
    "        message_split[0] = 'INVALID'\n",
    "        message_split.append('')\n",
    "    \n",
    "    command = message_split[0].replace(' ', '')\n",
    "    content = message_split[1].replace(' ', '')\n",
    "\n",
    "    return command.strip(), content.strip()"
   ]
  },
  {
   "cell_type": "code",
   "execution_count": 41,
   "id": "386cc3e1",
   "metadata": {},
   "outputs": [],
   "source": [
    "def create_db_connection(conn_string):\n",
    "    \"\"\"Creates a connection to database\n",
    "\n",
    "    Parameters\n",
    "    ----------\n",
    "    conn_string : str\n",
    "        This is the connection string.\n",
    "\n",
    "    Returns\n",
    "    ----------\n",
    "    obj: Returns a psycopg2.extensions.connection object.\n",
    "    \n",
    "    \"\"\"\n",
    "    conn = None\n",
    "    try:\n",
    "        conn = psycopg2.connect(conn_string)\n",
    "        # for debug - to be removed for production\n",
    "        print(\"MySQL Database connection successful\")\n",
    "    except Exception as err:\n",
    "        print(f\"Error: '{err}'\")\n",
    "\n",
    "    return conn"
   ]
  },
  {
   "cell_type": "code",
   "execution_count": 42,
   "id": "0743a54d",
   "metadata": {},
   "outputs": [],
   "source": [
    "def execute_query(connection, query):\n",
    "    \"\"\"Executes a query to the databse.\n",
    "\n",
    "    Parameters\n",
    "    ----------\n",
    "    conn : object \n",
    "        This is a psycopg2.extensions.connection object.\n",
    "    query : str\n",
    "        This is a SQL query string. \n",
    "\n",
    "    Returns\n",
    "    ----------\n",
    "    None: This function does not return any value.\n",
    "    \n",
    "    \"\"\"\n",
    "    cursor = connection.cursor()\n",
    "    try:\n",
    "        cursor.execute(query)\n",
    "        connection.commit()\n",
    "        # for debug - to be removed for production\n",
    "        print(\"Query successful\")\n",
    "    except Exception as err:\n",
    "        print(f\"Error: '{err}'\")"
   ]
  },
  {
   "cell_type": "code",
   "execution_count": 43,
   "id": "83650b05",
   "metadata": {},
   "outputs": [],
   "source": [
    "def add_user(conn, name, number):\n",
    "    \"\"\"Adds a user to the databse \n",
    "\n",
    "    Parameters\n",
    "    ----------\n",
    "    conn : object \n",
    "        This is a psycopg2.extensions.connection object.\n",
    "    name : str\n",
    "        This is the name of the person.\n",
    "    number : str\n",
    "        This is the phone number of the person. \n",
    "\n",
    "    Returns\n",
    "    ----------\n",
    "    None: This function does not return any value.\n",
    "    \n",
    "    \"\"\"\n",
    "    #execute the sql \n",
    "    query = f\"insert into client (user_name, phone_number) Select '{name}', '{number}' Where not exists(select * from client where phone_number='{number}')\"\n",
    "    execute_query(conn, query)\n",
    "    conn.close()"
   ]
  },
  {
   "cell_type": "code",
   "execution_count": 44,
   "id": "dad1cc1a",
   "metadata": {},
   "outputs": [],
   "source": [
    "def add_user_portfolio(conn, content, number):\n",
    "    \"\"\"Adds a portfolio to the database\n",
    "\n",
    "    Parameters\n",
    "    ----------\n",
    "    conn : object \n",
    "        This is a psycopg2.extensions.connection object.\n",
    "    content : str\n",
    "        A comma separated string of ticker symbols.\n",
    "    number : str\n",
    "        This is the phone number of the person. \n",
    "\n",
    "    Returns\n",
    "    ----------\n",
    "    None: This function does not return any value.\n",
    "    \n",
    "    \"\"\"\n",
    "    query = f\"insert into user_portfolio (user_id, tickers) values ((select user_id from client where phone_number='{number}'), '{content}') \"\n",
    "    execute_query(conn, query)\n",
    "    conn.close()"
   ]
  },
  {
   "cell_type": "code",
   "execution_count": 45,
   "id": "c973aa3d",
   "metadata": {},
   "outputs": [],
   "source": [
    "def content_to_list(content):\n",
    "    \"\"\"Converts comma separated string to a list\n",
    "\n",
    "    Parameters\n",
    "    ----------\n",
    "    content : str\n",
    "        A comma separated string of ticker symbols.\n",
    "\n",
    "    Returns\n",
    "    ----------\n",
    "    List: Returns the corresponding list item.\n",
    "    \n",
    "    \"\"\"\n",
    "    return content.replace(\" \", \"\").split(',')"
   ]
  },
  {
   "cell_type": "code",
   "execution_count": 71,
   "id": "c309efb1",
   "metadata": {},
   "outputs": [],
   "source": [
    "def execute_command(command, phone, content):\n",
    "    \"\"\"This functions executes commands received from the sms engine. \n",
    "\n",
    "    Parameters\n",
    "    ----------\n",
    "    command : str \n",
    "        This is the command type to be executed ADD = add user, TICKERS = add profile.\n",
    "    phone : str\n",
    "        This is the phone number of the person. \n",
    "    content : str\n",
    "        This is the content to be added to the database.\n",
    "\n",
    "    Returns\n",
    "    ----------\n",
    "    None: This function does not return any value.\n",
    "    \n",
    "    \"\"\"\n",
    "    welcome_message = 'Welcome! \\n Please send us your tickers. Text TICKERS followed by your ticker list (e.g. TICKERS FB, AMD).'\n",
    "    add_portfolio_message = 'We have received your tickers! Your portfolio is being analyzed and we will send you the results shortly.'\n",
    "    \n",
    "    if command=='ADD':\n",
    "        # for debug - to be removed for production\n",
    "        print('Adding a user!')\n",
    "        # connect to db\n",
    "        conn = create_db_connection(conn_string)\n",
    "        # add user to db\n",
    "        add_user(conn, content, phone)\n",
    "        # send a welcome message to the user\n",
    "        send_sms(content, phone, welcome_message)\n",
    "        \n",
    "    elif command=='TICKERS':\n",
    "        # for debug - to be removed for production\n",
    "        print('Adding portfolio')\n",
    "        # add portfolio to db\n",
    "        conn = create_db_connection(conn_string)\n",
    "        add_user_portfolio(conn, content, phone)\n",
    "        # notify the user\n",
    "        send_sms(content, phone, add_portfolio_message)\n",
    "        ticker_list = content_to_list(content)\n",
    "        # run MC sim - RN\n",
    "        # add to events - RN\n",
    "        # Visualize the data - JF\n",
    "            # plots to be made  - JF\n",
    "        # message back results - YH\n",
    "        \n",
    "    else:  print('Invalid entry!')"
   ]
  },
  {
   "cell_type": "markdown",
   "id": "c9c2a964",
   "metadata": {},
   "source": [
    "### Main Program Area"
   ]
  },
  {
   "cell_type": "code",
   "execution_count": 73,
   "id": "581cebed",
   "metadata": {},
   "outputs": [
    {
     "name": "stdout",
     "output_type": "stream",
     "text": [
      "Adding a user!\n",
      "MySQL Database connection successful\n",
      "Query successful\n",
      "ADD \n",
      "Micheal\n",
      "---\n",
      "Invalid entry!\n",
      "START\n",
      "---\n",
      "Invalid entry!\n",
      "STOP\n",
      "---\n",
      "Adding portfolio\n",
      "MySQL Database connection successful\n",
      "Query successful\n",
      "TICKERS TSLA, HD, GE\n",
      "---\n",
      "Adding portfolio\n",
      "MySQL Database connection successful\n",
      "Query successful\n",
      "TICKERS TSLA\n",
      "---\n",
      "Invalid entry!\n",
      "TICKER TSLA\n",
      "---\n",
      "Adding portfolio\n",
      "MySQL Database connection successful\n",
      "Query successful\n",
      "Tickers TSLA\n",
      "---\n",
      "Adding a user!\n",
      "MySQL Database connection successful\n",
      "Query successful\n",
      "ADD Farah \n",
      "---\n",
      "Invalid entry!\n",
      "TSLA, HD, GE\n",
      "---\n",
      "Adding a user!\n",
      "MySQL Database connection successful\n",
      "Query successful\n",
      "ADD \n",
      "Farah \n",
      "---\n",
      "Adding a user!\n",
      "MySQL Database connection successful\n",
      "Query successful\n",
      "ADD Rina\n",
      "---\n",
      "Invalid entry!\n",
      "2 +19175437108 TSLA, HD, GE\n",
      "---\n",
      "Invalid entry!\n",
      "2 +15185888001 FB, AMZN\n",
      "---\n",
      "Invalid entry!\n",
      "1 +22222 19176015305\n",
      "---\n",
      "Invalid entry!\n",
      "1 +15185888001 Justin\n",
      "---\n",
      "Invalid entry!\n",
      "1 +19175437108 Rina\n",
      "---\n"
     ]
    }
   ],
   "source": [
    "# check inbound messages for today \n",
    "\n",
    "today = date.today()\n",
    "\n",
    "for sms in twilio_api.messages.list():\n",
    "    if (sms.direction == 'inbound') and (sms.date_created.date() == (today)):\n",
    "        command, content = parse_message(sms.body)\n",
    "        phone = sms.from_\n",
    "        execute_command(command.upper(), phone, content)\n",
    "        print(sms.body)\n",
    "        print('---')"
   ]
  },
  {
   "cell_type": "code",
   "execution_count": null,
   "id": "6958ee69",
   "metadata": {},
   "outputs": [],
   "source": []
  },
  {
   "cell_type": "code",
   "execution_count": null,
   "id": "08b440bd",
   "metadata": {},
   "outputs": [],
   "source": []
  },
  {
   "cell_type": "code",
   "execution_count": null,
   "id": "74c1fa7d",
   "metadata": {},
   "outputs": [],
   "source": []
  },
  {
   "cell_type": "code",
   "execution_count": null,
   "id": "605d9b96",
   "metadata": {},
   "outputs": [],
   "source": []
  }
 ],
 "metadata": {
  "kernelspec": {
   "display_name": "Python 3",
   "language": "python",
   "name": "python3"
  },
  "language_info": {
   "codemirror_mode": {
    "name": "ipython",
    "version": 3
   },
   "file_extension": ".py",
   "mimetype": "text/x-python",
   "name": "python",
   "nbconvert_exporter": "python",
   "pygments_lexer": "ipython3",
   "version": "3.8.5"
  }
 },
 "nbformat": 4,
 "nbformat_minor": 5
}
